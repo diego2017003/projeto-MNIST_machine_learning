{
 "cells": [
  {
   "cell_type": "code",
   "execution_count": null,
   "metadata": {},
   "outputs": [],
   "source": []
  }
 ],
 "metadata": {
  "kernelspec": {
   "display_name": "Python 3.10.2 ('.venv': poetry)",
   "language": "python",
   "name": "python3"
  },
  "language_info": {
   "name": "python",
   "version": "3.10.2"
  },
  "orig_nbformat": 4,
  "vscode": {
   "interpreter": {
    "hash": "8bcbe2d2129a3dbcbd2a64da06098cd711e43dce97a78a409e3aa8e2fc1ddb28"
   }
  }
 },
 "nbformat": 4,
 "nbformat_minor": 2
}
