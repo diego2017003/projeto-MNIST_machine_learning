{
 "cells": [
  {
   "cell_type": "code",
   "execution_count": 1,
   "metadata": {},
   "outputs": [
    {
     "name": "stderr",
     "output_type": "stream",
     "text": [
      "2022-07-18 07:09:11.940471: I tensorflow/core/util/util.cc:169] oneDNN custom operations are on. You may see slightly different numerical results due to floating-point round-off errors from different computation orders. To turn them off, set the environment variable `TF_ENABLE_ONEDNN_OPTS=0`.\n",
      "2022-07-18 07:09:11.963662: W tensorflow/stream_executor/platform/default/dso_loader.cc:64] Could not load dynamic library 'libcudart.so.11.0'; dlerror: libcudart.so.11.0: cannot open shared object file: No such file or directory; LD_LIBRARY_PATH: /mnt/c/Users/diego/Desktop/projeto pdi_machine_learning/projeto-pdi_machine_learning/.venv/lib/python3.10/site-packages/cv2/../../lib64:\n",
      "2022-07-18 07:09:11.963701: I tensorflow/stream_executor/cuda/cudart_stub.cc:29] Ignore above cudart dlerror if you do not have a GPU set up on your machine.\n",
      "2022-07-18 07:09:42.954331: I tensorflow/stream_executor/cuda/cuda_gpu_executor.cc:961] could not open file to read NUMA node: /sys/bus/pci/devices/0000:01:00.0/numa_node\n",
      "Your kernel may have been built without NUMA support.\n",
      "2022-07-18 07:09:42.954950: W tensorflow/stream_executor/platform/default/dso_loader.cc:64] Could not load dynamic library 'libcudart.so.11.0'; dlerror: libcudart.so.11.0: cannot open shared object file: No such file or directory; LD_LIBRARY_PATH: /mnt/c/Users/diego/Desktop/projeto pdi_machine_learning/projeto-pdi_machine_learning/.venv/lib/python3.10/site-packages/cv2/../../lib64:\n",
      "2022-07-18 07:09:42.955233: W tensorflow/stream_executor/platform/default/dso_loader.cc:64] Could not load dynamic library 'libcublas.so.11'; dlerror: libcublas.so.11: cannot open shared object file: No such file or directory; LD_LIBRARY_PATH: /mnt/c/Users/diego/Desktop/projeto pdi_machine_learning/projeto-pdi_machine_learning/.venv/lib/python3.10/site-packages/cv2/../../lib64:\n",
      "2022-07-18 07:09:42.955512: W tensorflow/stream_executor/platform/default/dso_loader.cc:64] Could not load dynamic library 'libcublasLt.so.11'; dlerror: libcublasLt.so.11: cannot open shared object file: No such file or directory; LD_LIBRARY_PATH: /mnt/c/Users/diego/Desktop/projeto pdi_machine_learning/projeto-pdi_machine_learning/.venv/lib/python3.10/site-packages/cv2/../../lib64:\n",
      "2022-07-18 07:09:42.955780: W tensorflow/stream_executor/platform/default/dso_loader.cc:64] Could not load dynamic library 'libcufft.so.10'; dlerror: libcufft.so.10: cannot open shared object file: No such file or directory; LD_LIBRARY_PATH: /mnt/c/Users/diego/Desktop/projeto pdi_machine_learning/projeto-pdi_machine_learning/.venv/lib/python3.10/site-packages/cv2/../../lib64:\n",
      "2022-07-18 07:09:42.956079: W tensorflow/stream_executor/platform/default/dso_loader.cc:64] Could not load dynamic library 'libcurand.so.10'; dlerror: libcurand.so.10: cannot open shared object file: No such file or directory; LD_LIBRARY_PATH: /mnt/c/Users/diego/Desktop/projeto pdi_machine_learning/projeto-pdi_machine_learning/.venv/lib/python3.10/site-packages/cv2/../../lib64:\n",
      "2022-07-18 07:09:42.956341: W tensorflow/stream_executor/platform/default/dso_loader.cc:64] Could not load dynamic library 'libcusolver.so.11'; dlerror: libcusolver.so.11: cannot open shared object file: No such file or directory; LD_LIBRARY_PATH: /mnt/c/Users/diego/Desktop/projeto pdi_machine_learning/projeto-pdi_machine_learning/.venv/lib/python3.10/site-packages/cv2/../../lib64:\n",
      "2022-07-18 07:09:42.956604: W tensorflow/stream_executor/platform/default/dso_loader.cc:64] Could not load dynamic library 'libcusparse.so.11'; dlerror: libcusparse.so.11: cannot open shared object file: No such file or directory; LD_LIBRARY_PATH: /mnt/c/Users/diego/Desktop/projeto pdi_machine_learning/projeto-pdi_machine_learning/.venv/lib/python3.10/site-packages/cv2/../../lib64:\n",
      "2022-07-18 07:09:42.956861: W tensorflow/stream_executor/platform/default/dso_loader.cc:64] Could not load dynamic library 'libcudnn.so.8'; dlerror: libcudnn.so.8: cannot open shared object file: No such file or directory; LD_LIBRARY_PATH: /mnt/c/Users/diego/Desktop/projeto pdi_machine_learning/projeto-pdi_machine_learning/.venv/lib/python3.10/site-packages/cv2/../../lib64:\n",
      "2022-07-18 07:09:42.956930: W tensorflow/core/common_runtime/gpu/gpu_device.cc:1850] Cannot dlopen some GPU libraries. Please make sure the missing libraries mentioned above are installed properly if you would like to use GPU. Follow the guide at https://www.tensorflow.org/install/gpu for how to download and setup the required libraries for your platform.\n",
      "Skipping registering GPU devices...\n",
      "2022-07-18 07:09:42.957351: I tensorflow/core/platform/cpu_feature_guard.cc:193] This TensorFlow binary is optimized with oneAPI Deep Neural Network Library (oneDNN) to use the following CPU instructions in performance-critical operations:  AVX2 AVX512F AVX512_VNNI FMA\n",
      "To enable them in other operations, rebuild TensorFlow with the appropriate compiler flags.\n"
     ]
    }
   ],
   "source": [
    "import streamlit as st\n",
    "import numpy as np\n",
    "import cv2 as cv\n",
    "from matplotlib import pyplot as plt\n",
    "from image_processing import *\n",
    "import tensorflow as tf\n",
    "\n",
    "# import tensorflow as tf\n",
    "from tensorflow import keras\n",
    "\n",
    "img = cv.imread(\"digitos.jpg\")\n",
    "\n",
    "img_gray = cv.cvtColor(img.copy(), cv.COLOR_BGR2GRAY)\n",
    "\n",
    "model = keras.models.load_model(\n",
    "    \"/mnt/c/Users/diego/Desktop/projeto pdi_machine_learning/projeto-pdi_machine_learning/app/model\"\n",
    ")"
   ]
  },
  {
   "cell_type": "code",
   "execution_count": 5,
   "metadata": {},
   "outputs": [
    {
     "name": "stdout",
     "output_type": "stream",
     "text": [
      "290\n",
      "\n",
      "947\n",
      "\n",
      "1494\n",
      "\n",
      "351\n",
      "\n",
      "1547\n",
      "\n",
      "1492\n",
      "\n",
      "872\n",
      "\n",
      "373\n",
      "\n",
      "1245\n",
      "\n",
      "771\n",
      "\n"
     ]
    },
    {
     "ename": "IndexError",
     "evalue": "list index out of range",
     "output_type": "error",
     "traceback": [
      "\u001b[0;31m---------------------------------------------------------------------------\u001b[0m",
      "\u001b[0;31mIndexError\u001b[0m                                Traceback (most recent call last)",
      "\u001b[1;32m/mnt/c/Users/diego/Desktop/projeto pdi_machine_learning/projeto-pdi_machine_learning/app/teste.ipynb Cell 2\u001b[0m in \u001b[0;36m<cell line: 31>\u001b[0;34m()\u001b[0m\n\u001b[1;32m     <a href='vscode-notebook-cell://wsl%2Bubuntu-20.04/mnt/c/Users/diego/Desktop/projeto%20pdi_machine_learning/projeto-pdi_machine_learning/app/teste.ipynb#ch0000001vscode-remote?line=28'>29</a>\u001b[0m resize \u001b[39m=\u001b[39m resize_rois(rois)\n\u001b[1;32m     <a href='vscode-notebook-cell://wsl%2Bubuntu-20.04/mnt/c/Users/diego/Desktop/projeto%20pdi_machine_learning/projeto-pdi_machine_learning/app/teste.ipynb#ch0000001vscode-remote?line=29'>30</a>\u001b[0m \u001b[39m#        try:\u001b[39;00m\n\u001b[0;32m---> <a href='vscode-notebook-cell://wsl%2Bubuntu-20.04/mnt/c/Users/diego/Desktop/projeto%20pdi_machine_learning/projeto-pdi_machine_learning/app/teste.ipynb#ch0000001vscode-remote?line=30'>31</a>\u001b[0m resize2 \u001b[39m=\u001b[39m \u001b[39mlist\u001b[39m(np\u001b[39m.\u001b[39mfloat_(resize[\u001b[39m0\u001b[39;49m]) \u001b[39m/\u001b[39m \u001b[39m255\u001b[39m)\n\u001b[1;32m     <a href='vscode-notebook-cell://wsl%2Bubuntu-20.04/mnt/c/Users/diego/Desktop/projeto%20pdi_machine_learning/projeto-pdi_machine_learning/app/teste.ipynb#ch0000001vscode-remote?line=31'>32</a>\u001b[0m plt\u001b[39m.\u001b[39mimshow(resize2)\n",
      "\u001b[0;31mIndexError\u001b[0m: list index out of range"
     ]
    }
   ],
   "source": [
    "blur_img = blur_image(\n",
    "    img_gray, mask_size=51\n",
    ")\n",
    "multiplier = 2\n",
    "aperture = 5\n",
    "canny = edges_canny(\n",
    "    blur_img,\n",
    "    lower_threshold=100,\n",
    "    multiplier=multiplier,\n",
    "    aperture_size=aperture,\n",
    ")\n",
    "kernel_size = 7\n",
    "interation = 2\n",
    "dilate_img = dilate_image(\n",
    "    canny, kernel_size=kernel_size, iterations=interation\n",
    ")\n",
    "contours_poly, boundRect, contours = find_contours_and_boxes(\n",
    "    dilate_img\n",
    ")\n",
    "\n",
    "boxes_img = draw_bounding_boxes_contours(\n",
    "    img_gray.copy(), contours_poly, boundRect, contours\n",
    ")\n",
    "\n",
    "rois = extract_roi_black_white(\n",
    "    img_gray.copy(), boundRect,threshold=170\n",
    ")\n",
    "\n",
    "resize = resize_rois(rois)\n",
    "#        try:\n",
    "resize2 = list(np.float_(resize[0]) / 255)\n",
    "plt.imshow(resize2)\n"
   ]
  },
  {
   "cell_type": "code",
   "execution_count": 6,
   "metadata": {},
   "outputs": [
    {
     "data": {
      "text/plain": [
       "array([[167, 167, 167, ..., 170, 171, 171],\n",
       "       [167, 167, 167, ..., 170, 171, 171],\n",
       "       [167, 167, 167, ..., 170, 171, 171],\n",
       "       ...,\n",
       "       [169, 169, 168, ..., 168, 168, 168],\n",
       "       [169, 169, 168, ..., 168, 168, 168],\n",
       "       [169, 169, 168, ..., 168, 168, 168]], dtype=uint8)"
      ]
     },
     "execution_count": 6,
     "metadata": {},
     "output_type": "execute_result"
    }
   ],
   "source": [
    "rois[0]"
   ]
  },
  {
   "cell_type": "code",
   "execution_count": null,
   "metadata": {},
   "outputs": [],
   "source": [
    "imgs[0]"
   ]
  },
  {
   "cell_type": "code",
   "execution_count": null,
   "metadata": {},
   "outputs": [],
   "source": [
    "imgs=np.array([np.reshape(np.array(i),(28,28)) for i in resize2])"
   ]
  },
  {
   "cell_type": "code",
   "execution_count": null,
   "metadata": {},
   "outputs": [],
   "source": [
    "imgs.shape"
   ]
  },
  {
   "cell_type": "code",
   "execution_count": null,
   "metadata": {},
   "outputs": [],
   "source": [
    "model.predict(imgs)"
   ]
  }
 ],
 "metadata": {
  "kernelspec": {
   "display_name": "Python 3.10.2 ('.venv': poetry)",
   "language": "python",
   "name": "python3"
  },
  "language_info": {
   "codemirror_mode": {
    "name": "ipython",
    "version": 3
   },
   "file_extension": ".py",
   "mimetype": "text/x-python",
   "name": "python",
   "nbconvert_exporter": "python",
   "pygments_lexer": "ipython3",
   "version": "3.10.2"
  },
  "orig_nbformat": 4,
  "vscode": {
   "interpreter": {
    "hash": "8bcbe2d2129a3dbcbd2a64da06098cd711e43dce97a78a409e3aa8e2fc1ddb28"
   }
  }
 },
 "nbformat": 4,
 "nbformat_minor": 2
}
